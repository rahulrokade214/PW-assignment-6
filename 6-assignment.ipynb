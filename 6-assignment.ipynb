{
 "cells": [
  {
   "cell_type": "markdown",
   "id": "cfbb87d6-bf74-442a-89f4-28e5f630dd5b",
   "metadata": {},
   "source": [
    "## Q1. What is an execution in python? Write the difference between Execution and Syntax errors."
   ]
  },
  {
   "cell_type": "markdown",
   "id": "48072507-04d8-42df-a2ab-e581fc98ec69",
   "metadata": {},
   "source": [
    "### Syntax error occurs when there is some grammatical error ,like for eg. u missed a semicolon or a parenthesis….. execution errors become evident only during runtime ,so they are sometimes called as runtime error. An execution error occurs when a program is asked to do something that it cannot,resulting in a crash."
   ]
  },
  {
   "cell_type": "markdown",
   "id": "60807129-c7fb-4043-8e51-b0d57fb27e1c",
   "metadata": {},
   "source": [
    "## Q2.What is happens when an execution is not handled? Explain with an example.in python"
   ]
  },
  {
   "cell_type": "markdown",
   "id": "9630db44-4d3f-4521-91fe-ac2e72663f2e",
   "metadata": {},
   "source": [
    "### If any exception occurs, the try clause will be skipped and except clause will run. If any exception occurs, but the except clause within the code doesn't handle it, it is passed on to the outer try statements. If the exception is left unhandled, then the execution stops"
   ]
  },
  {
   "cell_type": "markdown",
   "id": "e7aaba32-7a3b-49c1-acda-0fc602614cb4",
   "metadata": {},
   "source": [
    "## Q3.Which python statements are used to catch an handle exceptions?Explain with an example."
   ]
  },
  {
   "cell_type": "markdown",
   "id": "1b947391-12e3-4877-847c-e47ec8c79d2b",
   "metadata": {},
   "source": [
    "### The try and except block in Python is used to catch and handle exceptions. Python executes code following the try statement as a “normal” part of the program."
   ]
  },
  {
   "cell_type": "markdown",
   "id": "86854c70-2774-4ddb-a541-662f3bf8b640",
   "metadata": {},
   "source": [
    "## Q4.Explain with an example:\n",
    "## a. try and felse\n",
    "## b.finally\n",
    "## c.raise"
   ]
  },
  {
   "cell_type": "markdown",
   "id": "40874622-b9f4-4483-a1b8-1a59dcf8eb30",
   "metadata": {},
   "source": [
    "###a.a = 5\n",
    "###  b = 0\n",
    "###  print(a/b)\n"
   ]
  },
  {
   "cell_type": "markdown",
   "id": "91db73f5-e044-4ff0-a53f-db31ce736320",
   "metadata": {},
   "source": [
    "## Q5. What are Custom Exception in python? Why Do we need custom Exception? Explain with example."
   ]
  },
  {
   "cell_type": "markdown",
   "id": "64593d89-f21c-414a-902d-2dd03aced460",
   "metadata": {},
   "source": [
    "### ntroduction to the Python custom exception\n",
    "### Like standard exception classes, custom exceptions are also classes. Hence, you can add functionality to the custom exception classes like: Adding attributes and properties. Adding methods e.g., log the exception, format the output, etc.\n"
   ]
  },
  {
   "cell_type": "markdown",
   "id": "07f39efa-0fb6-40de-8cfd-2426d2bac93a",
   "metadata": {},
   "source": [
    "## Q6.Create a custom exeption class. Use this class to handle exeption."
   ]
  },
  {
   "cell_type": "markdown",
   "id": "db32cf63-9cfe-489b-b390-c1bc39fe2b0d",
   "metadata": {},
   "source": [
    "### A custom exception class, MyCustomError\n",
    "### In the MyCustomError class above, there are two magic methods, __init__ and __str__ that are automatically called during the exception handling process. Init is the method called when an instance is created and str is the magic method called when an instance is printed."
   ]
  }
 ],
 "metadata": {
  "kernelspec": {
   "display_name": "Python 3 (ipykernel)",
   "language": "python",
   "name": "python3"
  },
  "language_info": {
   "codemirror_mode": {
    "name": "ipython",
    "version": 3
   },
   "file_extension": ".py",
   "mimetype": "text/x-python",
   "name": "python",
   "nbconvert_exporter": "python",
   "pygments_lexer": "ipython3",
   "version": "3.10.8"
  }
 },
 "nbformat": 4,
 "nbformat_minor": 5
}
